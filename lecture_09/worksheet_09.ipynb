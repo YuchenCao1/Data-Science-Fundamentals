{
 "cells": [
  {
   "attachments": {},
   "cell_type": "markdown",
   "metadata": {},
   "source": [
    "# Worksheet 09\n",
    "\n",
    "Name: Jialong Ke, Yuchen Chao, Zihan Li, Jingbo Wang  \n",
    "UID: U56019478, U51424608, U83682995, U04536921  \n",
    "\n",
    "### Topics\n",
    "\n",
    "- Clustering Review\n",
    "- Clustering Aggregation"
   ]
  },
  {
   "cell_type": "markdown",
   "metadata": {},
   "source": [
    "### Clustering Aggregation\n",
    "\n",
    "| Point | C | P |\n",
    "|-------|---|---|\n",
    "| A     | 0 | a |\n",
    "| B     | 0 | b |\n",
    "| C     | 2 | b |\n",
    "| D     | 1 | c |\n",
    "| E     | 1 | d |\n",
    "\n",
    "a) Fill in the following table where for each pair of points determine whether C and P agree or disagree on how to cluster that pair."
   ]
  },
  {
   "cell_type": "markdown",
   "metadata": {},
   "source": [
    "| Pair | Disagreement |\n",
    "|------|--------------|\n",
    "| A  B |      Yes       |\n",
    "| A  C |      No       |\n",
    "| A  D |      No       |\n",
    "| A  E |      No       |\n",
    "| B  C |      Yes       |\n",
    "| B  D |      No       |\n",
    "| B  E |      No       |\n",
    "| C  D |      No       |\n",
    "| C  E |      No       |\n",
    "| D  E |      Yes       |\n"
   ]
  },
  {
   "cell_type": "markdown",
   "metadata": {},
   "source": [
    "As datasets become very large, this process can become computationally challenging.\n",
    "\n",
    "b) Given N points, what is the formula for the number of unique pairs of points one can create?"
   ]
  },
  {
   "cell_type": "markdown",
   "metadata": {},
   "source": [
    "### Answer\n",
    "The formula for calculating the number of unique pairs k = 2  from  N  points is:\n",
    "\n",
    "$$\n",
    "\\binom{N}{2} = \\frac{N(N-1)}{2}\n",
    "$$\n",
    "\n",
    "### Explanation\n",
    "- **Combinations Formula**: The general combinations formula is $\\binom{n}{k} = \\frac{n!}{k!(n-k)!}$. For pairs, k = 2, so the formula simplifies to $\\frac{N(N-1)}{2}$\n",
    "- **Why This Formula**: The factor of $\\frac{1}{2}$ accounts for the fact that the order of selection doesn't matter , and $N(N-1)$ covers all ways to pick any two distinct points.\n"
   ]
  },
  {
   "cell_type": "markdown",
   "metadata": {},
   "source": [
    "Assume that clustering C clusters all points in the same cluster and clustering P clusters points as such:\n",
    "\n",
    "| Point | P |\n",
    "|-------|---|\n",
    "| A     | 0 |\n",
    "| B     | 0 |\n",
    "| C     | 0 |\n",
    "| D     | 1 |\n",
    "| E     | 1 |\n",
    "| F     | 2 |\n",
    "| G     | 2 |\n",
    "| H     | 2 |\n",
    "| I     | 2 |\n",
    "\n",
    "c) What is the maximum number of disagreements there could be for a dataset of this size? (use the formula from b)?"
   ]
  },
  {
   "cell_type": "markdown",
   "metadata": {},
   "source": [
    "1. **Number of ways to pick pairs within each cluster for \\(P\\)**:\n",
    "   - Cluster 0 (A, B, C): $ \\frac{3 \\times (3 - 1)}{2} = 3 $ pairs.\n",
    "   - Cluster 1 (D, E): $ \\frac{2 \\times (2 - 1)}{2} = 1 $ pair.\n",
    "   - Cluster 2 (F, G, H, I): $ \\frac{4 \\times (4 - 1)}{2} = 6 $ pairs.\n",
    "\n",
    "2. **Total pairs in each cluster of \\(P\\)** are thus $3 + 1 + 6 = 10$ pairs that \\(P\\) clusters together, which \\(C\\) also clusters together. Hence, these do not contribute to disagreements.\n",
    "\n",
    "3. **Total pairs for \\(N = 9\\) points**:\n",
    "   Using the formula from (b) $ \\frac{N(N-1)}{2} = \\frac{9 \\times 8}{2} = 36 $ pairs.\n",
    "\n",
    "4. **Maximum number of disagreements** is the total number of pairs minus the number of pairs \\(P\\) clusters together:\n",
    "   - $36 - 10 = 26$ pairs.\n",
    "\n",
    "Therefore, the maximum number of disagreements that could be present given this dataset size and the provided clustering methods is 26."
   ]
  },
  {
   "cell_type": "markdown",
   "metadata": {},
   "source": [
    "d) If we look at cluster 0. There are (3 x 2) / 2 = 3 pairs that agree with C (since all points in C are in the same cluster). For each cluster, determine how many agreements there are. How many total agreements are there? How many disagreements does that mean there are between C and P?"
   ]
  },
  {
   "cell_type": "markdown",
   "metadata": {},
   "source": [
    "### Calculation of Agreements\n",
    "Using the combination formula $\\binom{n}{2} = \\frac{n(n-1)}{2}$:\n",
    "\n",
    "- **Cluster 0 (A, B, C):**\n",
    "  - $\\binom{3}{2} = \\frac{3 \\times 2}{2} = 3$\n",
    "- **Cluster 1 (D, E):**\n",
    "  - $\\binom{2}{2} = \\frac{2 \\times 1}{2} = 1$\n",
    "- **Cluster 2 (F, G, H, I):**\n",
    "  - $\\binom{4}{2} = \\frac{4 \\times 3}{2} = 6$\n",
    "\n",
    "#### Total Agreements\n",
    "- Summing up the agreements from each cluster:\n",
    "  - $3 (\\text{Cluster 0}) + 1 (\\text{Cluster 1}) + 6 (\\text{Cluster 2}) = 10$\n",
    "\n",
    "### Calculation of Total Pairs in the Dataset\n",
    "- With 9 points, the total number of unique pairs is calculated as:\n",
    "  - $\\binom{9}{2} = \\frac{9 \\times 8}{2} = 36$\n",
    "\n",
    "#### Total Disagreements\n",
    "- Calculating disagreements by subtracting the agreements from the total pairs:\n",
    "  - $36 (\\text{total pairs}) - 10 (\\text{agreements}) = 26$\n",
    "\n",
    "### Answer\n",
    "- **Total Agreements**: There are 10 agreements among pairs.\n",
    "- **Total Disagreements**: There are 26 disagreements."
   ]
  },
  {
   "cell_type": "markdown",
   "metadata": {},
   "source": [
    "e) Assuming that filtering the dataset by cluster number is a computationally easy operation, describe an algorithm inspired by the above process that can efficiently compute disagreement distances on large datasets."
   ]
  },
  {
   "cell_type": "markdown",
   "metadata": {},
   "source": [
    "To efficiently compute disagreement distances in large datasets where two clustering methods may significantly differ, we can leverage the concept of filtering by cluster numbers. This approach focuses on minimizing the number of comparisons by segregating the data into smaller subsets where comparisons are necessary. \n",
    "\n",
    "### Algorithm for Computing Disagreement Distances\n",
    "\n",
    "#### Step 1: Segmentation by Clusters\n",
    "- **Input**: Two sets of clustering results $C$ and $P$ for a dataset $D$.\n",
    "- **Operation**: Segment the dataset $D$ into clusters as defined by $P$. Since $C$ clusters all points into a single cluster, segmentation by $C$ isn't necessary.\n",
    "\n",
    "#### Step 2: Identify Pairs Within Each $P$-Cluster\n",
    "- For each cluster $k$ in $P$, identify all possible pairs of points within the cluster.\n",
    "- Compute the total number of pairs within each cluster using the formula:\n",
    "  $$\n",
    "  \\text{Pairs in cluster } k = \\frac{n_k \\times (n_k - 1)}{2}\n",
    "  $$\n",
    "  where $n_k$ is the number of points in cluster $k$.\n",
    "\n",
    "#### Step 3: Calculate Total Agreements\n",
    "- Sum the pairs calculated for each cluster in $P$. This sum represents the total number of pairs that are considered as agreeing by $P$, as $C$ would have all points in one cluster.\n",
    "\n",
    "#### Step 4: Compute Total Pairs in Dataset\n",
    "- Calculate the total number of possible pairs in the dataset $D$ using:\n",
    "  $$\n",
    "  \\text{Total pairs} = \\frac{N \\times (N - 1)}{2}\n",
    "  $$\n",
    "  where $N$ is the total number of points in $D$.\n",
    "\n",
    "#### Step 5: Compute Disagreements\n",
    "- Compute the total disagreements by subtracting the total agreements (from step 3) from the total pairs (from step 4):\n",
    "  $$\n",
    "  \\text{Disagreements} = \\text{Total pairs} - \\text{Total agreements}\n",
    "  $$\n",
    "\n",
    "#### Step 6: Return the Result\n",
    "- Output the total number of disagreements.\n",
    "\n",
    "### Efficiency Considerations\n",
    "This algorithm is efficient for large datasets because:\n",
    "- **Filtering by Cluster**: Filtering operations are generally efficient, especially when using optimized data structures or databases.\n",
    "- **Local Comparisons**: By limiting pairwise comparisons to within-cluster boundaries in $P$, the algorithm avoids comparing every point with every other point, which reduces computational load.\n",
    "- **Pre-computation**: By computing the total possible pairs globally and then focusing only on intra-cluster pairs, the algorithm efficiently derives the total disagreements through subtraction rather than exhaustive checking.\n",
    "\n"
   ]
  }
 ],
 "metadata": {
  "interpreter": {
   "hash": "76ca05dc3ea24b2e3b98cdb7774adfbb40773424bf5109b477fd793f623715af"
  },
  "kernelspec": {
   "display_name": "Python 3 (ipykernel)",
   "language": "python",
   "name": "python3"
  },
  "language_info": {
   "codemirror_mode": {
    "name": "ipython",
    "version": 3
   },
   "file_extension": ".py",
   "mimetype": "text/x-python",
   "name": "python",
   "nbconvert_exporter": "python",
   "pygments_lexer": "ipython3",
   "version": "3.10.14"
  },
  "orig_nbformat": 4
 },
 "nbformat": 4,
 "nbformat_minor": 2
}
