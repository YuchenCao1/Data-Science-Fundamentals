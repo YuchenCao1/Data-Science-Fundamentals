{
 "cells": [
  {
   "attachments": {},
   "cell_type": "markdown",
   "metadata": {},
   "source": [
    "# Worksheet 08\n",
    "\n",
    "Name: Yuchen Cao  \n",
    "UID: U51424608\n",
    "\n",
    "### Topics\n",
    "\n",
    "- Soft Clustering\n",
    "- Clustering Aggregation\n",
    "\n",
    "### Probability Review\n",
    "\n",
    "Read through [the following](https://medium.com/@gallettilance/overview-of-probability-3272b72c82c8)\n",
    "\n",
    "### Soft Clustering\n",
    "\n",
    "We generate 10 data points that come from a normal distribution with mean 5 and variance 1."
   ]
  },
  {
   "cell_type": "code",
   "execution_count": 514,
   "metadata": {},
   "outputs": [
    {
     "name": "stdout",
     "output_type": "stream",
     "text": [
      "[5.554279319419288, 4.556730795225612, 4.331551491997016, 4.846598065856022, 2.839904959828095, 3.4804060411172797, 4.768267746381696, 3.801596928895064, 4.395750821792968, 5.112361821418937]\n"
     ]
    }
   ],
   "source": [
    "import random\n",
    "import numpy as np\n",
    "from sklearn.cluster import KMeans\n",
    "\n",
    "mean = 5\n",
    "stdev = 1\n",
    "\n",
    "s1 = np.random.normal(mean, stdev, 10).tolist()\n",
    "print(s1)"
   ]
  },
  {
   "cell_type": "markdown",
   "metadata": {},
   "source": [
    "a) Generate 10 more data points, this time coming from a normal distribution with mean 8 and variance 1."
   ]
  },
  {
   "cell_type": "code",
   "execution_count": 515,
   "metadata": {},
   "outputs": [
    {
     "name": "stdout",
     "output_type": "stream",
     "text": [
      "[6.412089809412819, 10.227046074455503, 7.289399624853598, 8.346030807428695, 7.911325043348029, 7.984911470825929, 9.137429834851885, 9.002757781712486, 8.069998456464125, 7.15173036024846]\n"
     ]
    }
   ],
   "source": [
    "s2 = np.random.normal(8, 1, 10).tolist()\n",
    "print(s2)"
   ]
  },
  {
   "attachments": {},
   "cell_type": "markdown",
   "metadata": {},
   "source": [
    "b) Flip a fair coin 10 times. If the coin lands on H, then pick the last data point of `s1` and remove it from `s1`, if T then pick the last data point from `s2` and remove it from `s2`. Add these 10 points to a list called `data`."
   ]
  },
  {
   "cell_type": "code",
   "execution_count": 516,
   "metadata": {},
   "outputs": [
    {
     "name": "stdout",
     "output_type": "stream",
     "text": [
      "[7.15173036024846, 5.112361821418937, 4.395750821792968, 3.801596928895064, 4.768267746381696, 8.069998456464125, 3.4804060411172797, 9.002757781712486, 9.137429834851885, 7.984911470825929]\n"
     ]
    }
   ],
   "source": [
    "data = []\n",
    "for i in range(10):\n",
    "    # flip coin\n",
    "    coin_output = random.choice([0, 1])\n",
    "    if coin_output == 0:\n",
    "        p1 = s1.pop()\n",
    "        data.append(p1)\n",
    "    else:\n",
    "        p2 = s2.pop()\n",
    "        data.append(p2)\n",
    "print(data)"
   ]
  },
  {
   "cell_type": "markdown",
   "metadata": {},
   "source": [
    "c) This `data` is a Gaussian Mixture Distribution with 2 mixture components. Over the next few questions we will walk through the GMM algorithm to see if we can uncover the parameters we used to generate this data. First, please list all these parameters of the GMM that created `data` and the values we know they have."
   ]
  },
  {
   "cell_type": "markdown",
   "metadata": {},
   "source": [
    "The mean of the first normal distribution: 5  \n",
    "The standard deviation of the first normal distribution: 1  \n",
    "The number of data in the first normal distribution: 10  \n",
    "The mean of the second normal distribution: 8  \n",
    "The standard deviation of the second normal distribution: 1  \n",
    "The number of data in the second normal distribution: 10  \n",
    "The possibility of choosing data from each distribution is both 0.5."
   ]
  },
  {
   "cell_type": "markdown",
   "metadata": {},
   "source": [
    "d) Let's assume there are two mixture components (note: we could plot the data and make the observation that there are two clusters). The EM algorithm asks us to start with a random `mean_j`, `variance_j`, `P(S_j)` for each component j. One method we could use to find sensible values for these is to apply K means with k=2 here.\n",
    "\n",
    "1. the centroids would be the estimates of the `mean_j`\n",
    "2. the intra-cluster variance could be the estimate of `variance_j`\n",
    "3. the proportion of points in each cluster could be the estimate of `P(S_j)`\n",
    "\n",
    "Go through this process and list the parameter estimates it gives. Are they close or far from the true values?"
   ]
  },
  {
   "cell_type": "code",
   "execution_count": 517,
   "metadata": {},
   "outputs": [
    {
     "name": "stdout",
     "output_type": "stream",
     "text": [
      "[5.112361821418937, 4.395750821792968, 3.801596928895064, 4.768267746381696, 3.4804060411172797]\n",
      "[7.15173036024846, 8.069998456464125, 9.002757781712486, 9.137429834851885, 7.984911470825929]\n",
      "P(S_1) = 0.5,  P(S_2) = 0.5\n",
      "mean_1 = 4.311676671921189,  mean_2 = 8.269365580820576\n",
      "var_1 = 0.36156655729252424,  var_2 = 0.5322339093372601\n"
     ]
    }
   ],
   "source": [
    "kmeans = KMeans(2, init='k-means++').fit(X=np.array(data).reshape(-1, 1))\n",
    "\n",
    "s1 = [x[0] for x in filter(lambda x: x[1] == 0, zip(data, kmeans.labels_))]\n",
    "print(s1)\n",
    "s2 = [x[0] for x in filter(lambda x: x[1] == 1, zip(data, kmeans.labels_))]\n",
    "print(s2)\n",
    "\n",
    "prob_s = [ len(s1) / (len(s1) + len(s2)) , len(s2) / (len(s1) + len(s2)) ]\n",
    "mean = [ sum(s1)/len(s1) , sum(s2)/len(s2) ]\n",
    "var = [ sum(map(lambda x : (x - mean[0])**2, s1)) / len(s1) , sum(map(lambda x : (x - mean[1])**2, s2)) / len(s2) ]\n",
    "\n",
    "print(\"P(S_1) = \" + str(prob_s[0]) + \",  P(S_2) = \" + str(prob_s[1]))\n",
    "print(\"mean_1 = \" + str(mean[0]) + \",  mean_2 = \" + str(mean[1]))\n",
    "print(\"var_1 = \" + str(var[0]) + \",  var_2 = \" + str(var[1]))"
   ]
  },
  {
   "cell_type": "markdown",
   "metadata": {},
   "source": [
    "The result of code is:  \n",
    "P(S_1) = 0.5,  P(S_2) = 0.5  \n",
    "mean_1 = 4.311676671921189,  mean_2 = 8.269365580820576  \n",
    "var_1 = 0.36156655729252424,  var_2 = 0.5322339093372601  \n",
    "I think all probability and mean are close to the true values, standard deviation is a little bit different."
   ]
  },
  {
   "cell_type": "markdown",
   "metadata": {},
   "source": [
    "e) For each data point, compute `P(S_j | X_i)`. Comment on which cluster you think each point belongs to based on the estimated probabilities. How does that compare to the truth?"
   ]
  },
  {
   "cell_type": "code",
   "execution_count": 518,
   "metadata": {},
   "outputs": [
    {
     "name": "stdout",
     "output_type": "stream",
     "text": [
      "7.15173036024846\n",
      "Probability of coming from S_1 = 5.342165780088853e-13\n",
      "Probability of coming from S_2 = 0.9999999999994658\n",
      "\n",
      "5.112361821418937\n",
      "Probability of coming from S_1 = 0.9999998193406432\n",
      "Probability of coming from S_2 = 1.8065935682281966e-07\n",
      "\n",
      "4.395750821792968\n",
      "Probability of coming from S_1 = 0.9999999999978042\n",
      "Probability of coming from S_2 = 2.195814135540074e-12\n",
      "\n",
      "3.801596928895064\n",
      "Probability of coming from S_1 = 0.999999999999999\n",
      "Probability of coming from S_2 = 9.180694212363733e-16\n",
      "\n",
      "4.768267746381696\n",
      "Probability of coming from S_1 = 0.9999999993945875\n",
      "Probability of coming from S_2 = 6.054125393121626e-10\n",
      "\n",
      "8.069998456464125\n",
      "Probability of coming from S_1 = 5.449358202448965e-24\n",
      "Probability of coming from S_2 = 1.0\n",
      "\n",
      "3.4804060411172797\n",
      "Probability of coming from S_1 = 1.0\n",
      "Probability of coming from S_2 = 2.5082007101808756e-17\n",
      "\n",
      "9.002757781712486\n",
      "Probability of coming from S_1 = 1.0645506885625439e-36\n",
      "Probability of coming from S_2 = 1.0\n",
      "\n",
      "9.137429834851885\n",
      "Probability of coming from S_1 = 1.1577884424725554e-38\n",
      "Probability of coming from S_2 = 1.0\n",
      "\n",
      "7.984911470825929\n",
      "Probability of coming from S_1 = 6.579915150921967e-23\n",
      "Probability of coming from S_2 = 1.0\n",
      "\n"
     ]
    }
   ],
   "source": [
    "from scipy.stats import norm\n",
    "\n",
    "prob_s0_x = [] # P(S_0 | X_i)\n",
    "prob_s1_x = [] # P(S_1 | X_i)\n",
    "prob_x = [] # P(X_i)\n",
    "\n",
    "k = 2\n",
    "\n",
    "for p in data:\n",
    "    #print(\"point = \", p)\n",
    "    pdf_i = []\n",
    "\n",
    "    for j in range(k):\n",
    "        # P(X_i | S_j)\n",
    "        pdf_i.append(norm.pdf(p, mean[j], var[j]))\n",
    "        #print(\"probability of observing that point if it came from cluster \" + str(j) + \" = \", pdf_i[j])\n",
    "        # P(S_j) already computed\n",
    "        prob_s[j]\n",
    "\n",
    "    # P(X_i) = P(S_0)P(X_i | S_0) + P(S_1)P(X_i | S_1)\n",
    "    prob_x = prob_s[0] * pdf_i[0] + prob_s[1] * pdf_i[1]\n",
    "    # P(S_j | X_i) = P(X_i | S_j)P(S_j) / P(X_i)\n",
    "    prob_s0_x.append( pdf_i[0] * prob_s[0] / prob_x )\n",
    "    prob_s1_x.append( pdf_i[1] * prob_s[1] / prob_x )\n",
    "\n",
    "probs = zip(data, prob_s0_x, prob_s1_x)\n",
    "for p in probs:\n",
    "    print(p[0])\n",
    "    print(\"Probability of coming from S_1 = \" + str(p[1]))\n",
    "    print(\"Probability of coming from S_2 = \" + str(p[2]))\n",
    "    print()\n"
   ]
  },
  {
   "cell_type": "markdown",
   "metadata": {},
   "source": [
    "It seems close to the truth value."
   ]
  },
  {
   "cell_type": "markdown",
   "metadata": {},
   "source": [
    "f) Having computed `P(S_j | X_i)`, update the estimates of `mean_j`, `var_j`, and `P(S_j)`. How different are these values from the original ones you got from K means? briefly comment."
   ]
  },
  {
   "cell_type": "code",
   "execution_count": 519,
   "metadata": {},
   "outputs": [
    {
     "name": "stdout",
     "output_type": "stream",
     "text": [
      "P(S_1) = 0.4999999818733568,  P(S_2) = 0.5000000181266432\n",
      "mean_1 = 4.311676642935917,  mean_2 = 8.269365466326622\n",
      "var_1 = 0.361566547212091,  var_2 = 0.532234251647195\n"
     ]
    }
   ],
   "source": [
    "prob_s = [sum(prob_s0_x)/ len(prob_s0_x), sum(prob_s1_x)/ len(prob_s1_x) ]\n",
    "mean = [sum([x[0] * x[1] for x in zip(prob_s0_x, data)]) / sum(prob_s0_x), sum([x[0] * x[1] for x in zip(prob_s1_x, data)]) / sum(prob_s1_x) ]\n",
    "var = [ sum((x - mean[0])**2 * prob for x, prob in zip(data, prob_s0_x)) / sum(prob_s0_x), sum((x - mean[1])**2 * prob for x, prob in zip(data, prob_s1_x)) / sum(prob_s1_x) ]\n",
    "\n",
    "print(\"P(S_1) = \" + str(prob_s[0]) + \",  P(S_2) = \" + str(prob_s[1]))\n",
    "print(\"mean_1 = \" + str(mean[0]) + \",  mean_2 = \" + str(mean[1]))\n",
    "print(\"var_1 = \" + str(var[0]) + \",  var_2 = \" + str(var[1]))"
   ]
  },
  {
   "cell_type": "markdown",
   "metadata": {},
   "source": [
    "The values are:  \n",
    "P(S_1) = 0.4999999818733568,  P(S_2) = 0.5000000181266432  \n",
    "mean_1 = 4.311676642935917,  mean_2 = 8.269365466326622  \n",
    "var_1 = 0.361566547212091,  var_2 = 0.532234251647195  \n",
    "I think it seems not a big difference between this and K means."
   ]
  },
  {
   "cell_type": "markdown",
   "metadata": {},
   "source": [
    "g) Update `P(S_j | X_i)`. Comment on any differences or lack thereof you observe."
   ]
  },
  {
   "cell_type": "code",
   "execution_count": 520,
   "metadata": {},
   "outputs": [
    {
     "name": "stdout",
     "output_type": "stream",
     "text": [
      "EM algorithm converged after 2 iterations.\n",
      "Final cluster probabilities: P(S_1) = 0.4999999818719584, P(S_2) = 0.5000000181280416\n",
      "Final means: mean_1 = 4.311676642933681, mean_2 = 8.26936546631779\n",
      "Final variances: var_1 = 0.3615675472113149, var_2 = 0.5322352516736136\n"
     ]
    }
   ],
   "source": [
    "change = 0.000001\n",
    "max_iter = 10\n",
    "\n",
    "prev_mean = np.copy(mean)\n",
    "prev_var = np.copy(var)\n",
    "prev_prob_s = np.copy(prob_s)\n",
    "\n",
    "for iteration in range(max_iter):\n",
    "    prob_s0_x = [] # P(S_0 | X_i)\n",
    "    prob_s1_x = [] # P(S_1 | X_i)\n",
    "    prob_x = [] # P(X_i)\n",
    "\n",
    "    k = 2\n",
    "\n",
    "    for p in data:\n",
    "        #print(\"point = \", p)\n",
    "        pdf_i = []\n",
    "\n",
    "        for j in range(k):\n",
    "            # P(X_i | S_j)\n",
    "            pdf_i.append(norm.pdf(p, mean[j], var[j]))\n",
    "            #print(\"probability of observing that point if it came from cluster \" + str(j) + \" = \", pdf_i[j])\n",
    "            # P(S_j) already computed\n",
    "            prob_s[j]\n",
    "\n",
    "        # P(X_i) = P(S_0)P(X_i | S_0) + P(S_1)P(X_i | S_1)\n",
    "        prob_x = prob_s[0] * pdf_i[0] + prob_s[1] * pdf_i[1]\n",
    "        # P(S_j | X_i) = P(X_i | S_j)P(S_j) / P(X_i)\n",
    "        prob_s0_x.append( pdf_i[0] * prob_s[0] / prob_x )\n",
    "        prob_s1_x.append( pdf_i[1] * prob_s[1] / prob_x )\n",
    "\n",
    "    prob_s = [sum(prob_s0_x)/ len(prob_s0_x), sum(prob_s1_x)/ len(prob_s1_x) ]\n",
    "    mean = [sum([x[0] * x[1] for x in zip(prob_s0_x, data)]) / sum(prob_s0_x), sum([x[0] * x[1] for x in zip(prob_s1_x, data)]) / sum(prob_s1_x) ]\n",
    "    var = [ sum((x - mean[0])**2 * prob for x, prob in zip(data, prob_s0_x)) / sum(prob_s0_x) + 1e-6, sum((x - mean[1])**2 * prob for x, prob in zip(data, prob_s1_x)) / sum(prob_s1_x) + 1e-6 ]\n",
    "\n",
    "    \n",
    "    mean_converged = np.all(np.abs(mean - prev_mean) < change)\n",
    "    var_converged = np.all(np.abs(var - prev_var) < change)\n",
    "    prob_s_converged = np.all(np.abs(prob_s - prev_prob_s) < change)\n",
    "\n",
    "    if mean_converged and var_converged and prob_s_converged:\n",
    "        print(f\"EM algorithm converged after {iteration + 1} iterations.\")\n",
    "        break\n",
    "\n",
    "    prev_mean = np.copy(mean)\n",
    "    prev_var = np.copy(var)\n",
    "    prev_prob_s = np.copy(prob_s)\n",
    "\n",
    "print(\"Final cluster probabilities: P(S_1) = {}, P(S_2) = {}\".format(prob_s[0], prob_s[1]))\n",
    "print(\"Final means: mean_1 = {}, mean_2 = {}\".format(mean[0], mean[1]))\n",
    "print(\"Final variances: var_1 = {}, var_2 = {}\".format(var[0], var[1]))\n"
   ]
  },
  {
   "cell_type": "markdown",
   "metadata": {},
   "source": [
    "The result is:  \n",
    "EM algorithm converged after 2 iterations.  \n",
    "Final cluster probabilities: P(S_1) = 0.4999999818719584, P(S_2) = 0.5000000181280416  \n",
    "Final means: mean_1 = 4.311676642933681, mean_2 = 8.26936546631779  \n",
    "Final variances: var_1 = 0.3615675472113149, var_2 = 0.5322352516736136  \n",
    "It seems getting better by iterations. All three values are getting closer to the truth values."
   ]
  },
  {
   "cell_type": "markdown",
   "metadata": {},
   "source": [
    "h) Use `P(S_j | X_i)` to create a hard assignment - label each point as belonging to a specific cluster (0 or 1)"
   ]
  },
  {
   "cell_type": "code",
   "execution_count": 525,
   "metadata": {},
   "outputs": [
    {
     "name": "stdout",
     "output_type": "stream",
     "text": [
      "cluster 0 is:\n",
      "[5.112361821418937, 4.395750821792968, 3.801596928895064, 4.768267746381696, 3.4804060411172797]\n",
      "cluster 1 is:\n",
      "[7.15173036024846, 8.069998456464125, 9.002757781712486, 9.137429834851885, 7.984911470825929]\n"
     ]
    }
   ],
   "source": [
    "cluster_0 = []\n",
    "cluster_1 = []\n",
    "for i in range(len(prob_s0_x)):\n",
    "    if prob_s0_x[i] > prob_s1_x[i] :\n",
    "        cluster_0.append(data[i])\n",
    "    else:\n",
    "        cluster_1.append(data[i])\n",
    "print(\"cluster 0 is:\")\n",
    "print(cluster_0)\n",
    "print(\"cluster 1 is:\")\n",
    "print(cluster_1)"
   ]
  }
 ],
 "metadata": {
  "kernelspec": {
   "display_name": "Python 3",
   "language": "python",
   "name": "python3"
  },
  "language_info": {
   "codemirror_mode": {
    "name": "ipython",
    "version": 3
   },
   "file_extension": ".py",
   "mimetype": "text/x-python",
   "name": "python",
   "nbconvert_exporter": "python",
   "pygments_lexer": "ipython3",
   "version": "3.11.3"
  },
  "orig_nbformat": 4,
  "vscode": {
   "interpreter": {
    "hash": "e7370f93d1d0cde622a1f8e1c04877d8463912d04d973331ad4851f04de6915a"
   }
  }
 },
 "nbformat": 4,
 "nbformat_minor": 2
}
