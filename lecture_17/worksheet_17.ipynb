{
 "cells": [
  {
   "attachments": {},
   "cell_type": "markdown",
   "metadata": {},
   "source": [
    "# Worksheet 17\n",
    "\n",
    "Name: Jialong Ke, Yuchen Chao, Zihan Li, Jingbo Wang  \n",
    "UID: U56019478, U51424608, U83682995, U04536921  \n",
    "\n",
    "### Topics\n",
    "\n",
    "- Recommender Systems\n",
    "\n",
    "### Recommender Systems\n",
    "\n",
    "In the example in class of recommending movies to users we used the movie rating as a measure of similarity between users and movies and thus the predicted rating for a user is a proxy for how highly a movie should be recommended. So the higher the predicted rating for a user, the higher a recommendation it would be.\n",
    "\n",
    "a) Consider a streaming platform that only has \"like\" or \"dislike\" (no 1-5 rating). Describe how you would build a recommender system in this case."
   ]
  },
  {
   "cell_type": "markdown",
   "metadata": {},
   "source": [
    "1. Data Collection and Preparation: Collect binary like/dislike data across all users and movies.\n",
    "2. Similarity Calculation: Calculate the similarity between movies based on the pattern of likes and dislikes they receive. This can be done using similarity metrics such as Jaccard similarity, Cosine similarity, or Pearson correlation tailored for binary data.\n",
    "3. Recommendation Generation: For a given user, identify movies that they haven't interacted with yet. Rank these movies based on their similarity to movies the user has liked. Recommend the top-ranked movies.\n",
    "4. Model Evaluation: Use techniques like cross-validation and metrics such as accuracy, precision, recall, or F1 score to evaluate and fine-tune the recommender system."
   ]
  },
  {
   "cell_type": "markdown",
   "metadata": {},
   "source": [
    "b) Describe 3 challenges of building a recommender system"
   ]
  },
  {
   "cell_type": "markdown",
   "metadata": {},
   "source": [
    "1. Data Sparsity: Most users typically interact with only a small subset of the total items available (e.g., movies, books), leading to a user-item interaction matrix that is mostly empty. This sparsity makes it difficult to find similar users or items and to make accurate predictions.\n",
    "2. Scalability: As the user base and the number of items in the system grow, the computational complexity of generating recommendations increases. Efficiently processing these large datasets within a reasonable time frame is challenging and often requires sophisticated data structures and algorithms.\n",
    "3. Cold Start Problem: This challenge arises when new users or items are added to the system. New users have no history of interactions, making it hard to predict their preferences. Similarly, new items have little or no interactions from users, making it difficult to recommend them accurately. This issue often necessitates the use of hybrid recommender systems or the incorporation of metadata to mitigate the lack of interaction data."
   ]
  },
  {
   "cell_type": "markdown",
   "metadata": {},
   "source": [
    "c) Why is SVD not an option for collaborative filtering?"
   ]
  },
  {
   "cell_type": "markdown",
   "metadata": {},
   "source": [
    "SVD (Singular Value Decomposition) is typically not used directly for collaborative filtering primarily due to the issue of handling missing data. In collaborative filtering, the user-item interaction matrix is usually sparse, meaning most of the entries are unknown or unrated. Standard SVD requires a fully populated matrix and does not natively accommodate missing values, which makes it unsuitable for directly applying to a typical sparse matrix found in collaborative filtering scenarios."
   ]
  },
  {
   "attachments": {},
   "cell_type": "markdown",
   "metadata": {},
   "source": [
    "d) Use the code below to train a recommender system on a dataset of amazon movies"
   ]
  },
  {
   "cell_type": "code",
   "execution_count": 9,
   "metadata": {},
   "outputs": [
    {
     "name": "stdout",
     "output_type": "stream",
     "text": [
      "Kaggle RMSE =  1.4329779623849463\n"
     ]
    },
    {
     "data": {
      "image/png": "[encoded data removed]",
      "text/plain": [
       "<Figure size 432x288 with 2 Axes>"
      ]
     },
     "metadata": {
      "needs_background": "light"
     },
     "output_type": "display_data"
    }
   ],
   "source": [
    "# Note: requires py3.10\n",
    "import findspark\n",
    "import pandas as pd\n",
    "import seaborn as sns\n",
    "import matplotlib.pyplot as plt\n",
    "\n",
    "from sklearn.model_selection import train_test_split\n",
    "from sklearn.metrics import mean_squared_error, confusion_matrix\n",
    "\n",
    "from pyspark.sql import SparkSession\n",
    "from pyspark import SparkConf, SparkContext\n",
    "from pyspark.ml.recommendation import ALS\n",
    "from pyspark.ml.tuning import ParamGridBuilder, CrossValidator\n",
    "\n",
    "findspark.init()\n",
    "conf = SparkConf()\n",
    "conf.set(\"spark.executor.memory\",\"28g\")\n",
    "conf.set(\"spark.driver.memory\", \"28g\")\n",
    "conf.set(\"spark.driver.cores\", \"8\")\n",
    "sc = SparkContext.getOrCreate(conf)\n",
    "spark = SparkSession.builder.getOrCreate()\n",
    "\n",
    "init_df = pd.read_csv(\"./train.csv\").dropna()\n",
    "init_df['UserId_fact'] = init_df['UserId'].astype('category').cat.codes\n",
    "init_df['ProductId_fact'] = init_df['ProductId'].astype('category').cat.codes\n",
    "\n",
    "# Split training set into training and testing set\n",
    "X_train_processed, X_test_processed, Y_train, Y_test = train_test_split(\n",
    "        init_df.drop(['Score'], axis=1),\n",
    "        init_df['Score'],\n",
    "        test_size=1/4.0,\n",
    "        random_state=0\n",
    "    )\n",
    "\n",
    "X_train_processed['Score'] = Y_train\n",
    "df = spark.createDataFrame(X_train_processed[['UserId_fact', 'ProductId_fact', 'Score']])\n",
    "als = ALS(\n",
    "    userCol=\"UserId_fact\",\n",
    "    itemCol=\"ProductId_fact\",\n",
    "    ratingCol=\"Score\",\n",
    "    coldStartStrategy=\"drop\",\n",
    "    nonnegative=True,\n",
    "    rank=100\n",
    ")\n",
    "# param_grid = ParamGridBuilder().addGrid(\n",
    "        # als.rank, [10, 50]).addGrid(\n",
    "        # als.regParam, [.1]).addGrid(\n",
    "        # # als.maxIter, [10]).build()\n",
    "# evaluator = RegressionEvaluator(\n",
    "        # metricName=\"rmse\",\n",
    "        # labelCol=\"Score\", \n",
    "        # # predictionCol=\"prediction\")\n",
    "# cv = CrossValidator(estimator=als, estimatorParamMaps=param_grid, evaluator=evaluator, numFolds=3, parallelism = 6)\n",
    "# cv_fit = cv.fit(df)\n",
    "# rec_sys = cv_fit.bestModel\n",
    "\n",
    "rec_sys = als.fit(df)\n",
    "# rec_sys.save('rec_sys.obj') # so we don't have to re-train it\n",
    "\n",
    "\n",
    "# rec = rec_sys.transform(spark.createDataFrame(X_test_processed[['UserId_fact', 'ProductId_fact']])).toPandas()\n",
    "# X_test_processed['Score'] = rec['prediction'].values.reshape(-1, 1)\n",
    "\n",
    "# print(\"Kaggle RMSE = \", mean_squared_error(X_test_processed['Score'], Y_test, squared=False))\n",
    "\n",
    "# cm = confusion_matrix(Y_test, X_test_processed['Score'], normalize='true')\n",
    "# sns.heatmap(cm, annot=True)\n",
    "# plt.title('Confusion matrix of the classifier')\n",
    "# plt.xlabel('Predicted')\n",
    "# plt.ylabel('True')\n",
    "# plt.show()\n",
    "# Calculate the mean score from the training data\n",
    "mean_score = Y_train.mean()\n",
    "\n",
    "# Generate predictions for the test set\n",
    "test_df = spark.createDataFrame(X_test_processed[['UserId_fact', 'ProductId_fact']])\n",
    "predictions_df = rec_sys.transform(test_df)\n",
    "\n",
    "# Convert predictions to pandas and merge with the original test DataFrame\n",
    "predictions_pd = predictions_df.toPandas()\n",
    "X_test_processed = X_test_processed.merge(predictions_pd, on=['UserId_fact', 'ProductId_fact'], how='left')\n",
    "\n",
    "# Replace NaN predictions with the mean score\n",
    "X_test_processed['prediction'].fillna(mean_score, inplace=True)\n",
    "\n",
    "# Now use the 'prediction' column instead of the original 'Score' column for further analysis\n",
    "print(\"Kaggle RMSE = \", mean_squared_error(X_test_processed['prediction'], Y_test, squared=False))\n",
    "\n",
    "# Generate the confusion matrix\n",
    "cm = confusion_matrix(Y_test, X_test_processed['prediction'].round(), normalize='true')  # Using rounded predictions\n",
    "sns.heatmap(cm, annot=True)\n",
    "plt.title('Confusion matrix of the classifier')\n",
    "plt.xlabel('Predicted')\n",
    "plt.ylabel('True')\n",
    "plt.show()\n"
   ]
  }
 ],
 "metadata": {
  "kernelspec": {
   "display_name": "Python 3",
   "language": "python",
   "name": "python3"
  },
  "language_info": {
   "codemirror_mode": {
    "name": "ipython",
    "version": 3
   },
   "file_extension": ".py",
   "mimetype": "text/x-python",
   "name": "python",
   "nbconvert_exporter": "python",
   "pygments_lexer": "ipython3",
   "version": "3.8.16"
  },
  "orig_nbformat": 4,
  "vscode": {
   "interpreter": {
    "hash": "e7370f93d1d0cde622a1f8e1c04877d8463912d04d973331ad4851f04de6915a"
   }
  }
 },
 "nbformat": 4,
 "nbformat_minor": 2
}
